{
 "cells": [
  {
   "cell_type": "code",
   "id": "initial_id",
   "metadata": {
    "collapsed": true,
    "ExecuteTime": {
     "end_time": "2024-08-29T21:25:15.473056Z",
     "start_time": "2024-08-29T21:25:15.453227Z"
    }
   },
   "source": [
    "import polars as pl\n",
    "\n",
    "df = pl.read_parquet(\"results.parquet\")\n",
    "df"
   ],
   "outputs": [
    {
     "data": {
      "text/plain": [
       "shape: (25_000, 9)\n",
       "┌───────┬──────┬─────────────┬─────────────┬───┬────────────┬────────────┬────────────┬────────────┐\n",
       "│ id    ┆ seed ┆ monkey_stra ┆ wolf_strate ┆ … ┆ turn_count ┆ start_time ┆ end_time   ┆ process_na │\n",
       "│ ---   ┆ ---  ┆ tegy        ┆ gy          ┆   ┆ ---        ┆ ---        ┆ ---        ┆ me         │\n",
       "│ i64   ┆ i64  ┆ ---         ┆ ---         ┆   ┆ i64        ┆ datetime[μ ┆ datetime[μ ┆ ---        │\n",
       "│       ┆      ┆ str         ┆ str         ┆   ┆            ┆ s]         ┆ s]         ┆ str        │\n",
       "╞═══════╪══════╪═════════════╪═════════════╪═══╪════════════╪════════════╪════════════╪════════════╡\n",
       "│ 0     ┆ 0    ┆ random      ┆ random      ┆ … ┆ 16         ┆ 2024-08-28 ┆ 2024-08-28 ┆ SpawnPoolW │\n",
       "│       ┆      ┆             ┆             ┆   ┆            ┆ 19:24:34.9 ┆ 19:24:35.7 ┆ orker-1    │\n",
       "│       ┆      ┆             ┆             ┆   ┆            ┆ 12830      ┆ 13436      ┆            │\n",
       "│ 1     ┆ 1    ┆ random      ┆ random      ┆ … ┆ 14         ┆ 2024-08-28 ┆ 2024-08-28 ┆ SpawnPoolW │\n",
       "│       ┆      ┆             ┆             ┆   ┆            ┆ 19:24:35.7 ┆ 19:24:36.2 ┆ orker-1    │\n",
       "│       ┆      ┆             ┆             ┆   ┆            ┆ 13436      ┆ 62786      ┆            │\n",
       "│ 2     ┆ 2    ┆ random      ┆ random      ┆ … ┆ 15         ┆ 2024-08-28 ┆ 2024-08-28 ┆ SpawnPoolW │\n",
       "│       ┆      ┆             ┆             ┆   ┆            ┆ 19:24:36.2 ┆ 19:24:37.1 ┆ orker-1    │\n",
       "│       ┆      ┆             ┆             ┆   ┆            ┆ 78410      ┆ 28121      ┆            │\n",
       "│ 3     ┆ 3    ┆ random      ┆ random      ┆ … ┆ 11         ┆ 2024-08-28 ┆ 2024-08-28 ┆ SpawnPoolW │\n",
       "│       ┆      ┆             ┆             ┆   ┆            ┆ 19:24:37.1 ┆ 19:24:37.6 ┆ orker-1    │\n",
       "│       ┆      ┆             ┆             ┆   ┆            ┆ 28121      ┆ 31140      ┆            │\n",
       "│ 4     ┆ 4    ┆ random      ┆ random      ┆ … ┆ 17         ┆ 2024-08-28 ┆ 2024-08-28 ┆ SpawnPoolW │\n",
       "│       ┆      ┆             ┆             ┆   ┆            ┆ 19:24:37.6 ┆ 19:24:38.5 ┆ orker-1    │\n",
       "│       ┆      ┆             ┆             ┆   ┆            ┆ 31140      ┆ 58397      ┆            │\n",
       "│ …     ┆ …    ┆ …           ┆ …           ┆ … ┆ …          ┆ …          ┆ …          ┆ …          │\n",
       "│ 24995 ┆ 995  ┆ metric_stre ┆ metric_stre ┆ … ┆ 5          ┆ 2024-08-28 ┆ 2024-08-28 ┆ SpawnPoolW │\n",
       "│       ┆      ┆ ngth        ┆ ngth        ┆   ┆            ┆ 20:01:48.8 ┆ 20:01:49.5 ┆ orker-4    │\n",
       "│       ┆      ┆             ┆             ┆   ┆            ┆ 69065      ┆ 49160      ┆            │\n",
       "│ 24996 ┆ 996  ┆ metric_stre ┆ metric_stre ┆ … ┆ 16         ┆ 2024-08-28 ┆ 2024-08-28 ┆ SpawnPoolW │\n",
       "│       ┆      ┆ ngth        ┆ ngth        ┆   ┆            ┆ 20:01:49.5 ┆ 20:01:50.2 ┆ orker-4    │\n",
       "│       ┆      ┆             ┆             ┆   ┆            ┆ 49160      ┆ 53752      ┆            │\n",
       "│ 24997 ┆ 997  ┆ metric_stre ┆ metric_stre ┆ … ┆ 13         ┆ 2024-08-28 ┆ 2024-08-28 ┆ SpawnPoolW │\n",
       "│       ┆      ┆ ngth        ┆ ngth        ┆   ┆            ┆ 20:01:50.2 ┆ 20:01:51.1 ┆ orker-4    │\n",
       "│       ┆      ┆             ┆             ┆   ┆            ┆ 53752      ┆ 82029      ┆            │\n",
       "│ 24998 ┆ 998  ┆ metric_stre ┆ metric_stre ┆ … ┆ 8          ┆ 2024-08-28 ┆ 2024-08-28 ┆ SpawnPoolW │\n",
       "│       ┆      ┆ ngth        ┆ ngth        ┆   ┆            ┆ 20:01:51.1 ┆ 20:01:51.8 ┆ orker-4    │\n",
       "│       ┆      ┆             ┆             ┆   ┆            ┆ 82029      ┆ 64236      ┆            │\n",
       "│ 24999 ┆ 999  ┆ metric_stre ┆ metric_stre ┆ … ┆ 12         ┆ 2024-08-28 ┆ 2024-08-28 ┆ SpawnPoolW │\n",
       "│       ┆      ┆ ngth        ┆ ngth        ┆   ┆            ┆ 20:01:51.8 ┆ 20:01:52.4 ┆ orker-4    │\n",
       "│       ┆      ┆             ┆             ┆   ┆            ┆ 64236      ┆ 28740      ┆            │\n",
       "└───────┴──────┴─────────────┴─────────────┴───┴────────────┴────────────┴────────────┴────────────┘"
      ],
      "text/html": [
       "<div><style>\n",
       ".dataframe > thead > tr,\n",
       ".dataframe > tbody > tr {\n",
       "  text-align: right;\n",
       "  white-space: pre-wrap;\n",
       "}\n",
       "</style>\n",
       "<small>shape: (25_000, 9)</small><table border=\"1\" class=\"dataframe\"><thead><tr><th>id</th><th>seed</th><th>monkey_strategy</th><th>wolf_strategy</th><th>winner</th><th>turn_count</th><th>start_time</th><th>end_time</th><th>process_name</th></tr><tr><td>i64</td><td>i64</td><td>str</td><td>str</td><td>str</td><td>i64</td><td>datetime[μs]</td><td>datetime[μs]</td><td>str</td></tr></thead><tbody><tr><td>0</td><td>0</td><td>&quot;random&quot;</td><td>&quot;random&quot;</td><td>&quot;wolf&quot;</td><td>16</td><td>2024-08-28 19:24:34.912830</td><td>2024-08-28 19:24:35.713436</td><td>&quot;SpawnPoolWorker-1&quot;</td></tr><tr><td>1</td><td>1</td><td>&quot;random&quot;</td><td>&quot;random&quot;</td><td>&quot;wolf&quot;</td><td>14</td><td>2024-08-28 19:24:35.713436</td><td>2024-08-28 19:24:36.262786</td><td>&quot;SpawnPoolWorker-1&quot;</td></tr><tr><td>2</td><td>2</td><td>&quot;random&quot;</td><td>&quot;random&quot;</td><td>&quot;monkey&quot;</td><td>15</td><td>2024-08-28 19:24:36.278410</td><td>2024-08-28 19:24:37.128121</td><td>&quot;SpawnPoolWorker-1&quot;</td></tr><tr><td>3</td><td>3</td><td>&quot;random&quot;</td><td>&quot;random&quot;</td><td>&quot;monkey&quot;</td><td>11</td><td>2024-08-28 19:24:37.128121</td><td>2024-08-28 19:24:37.631140</td><td>&quot;SpawnPoolWorker-1&quot;</td></tr><tr><td>4</td><td>4</td><td>&quot;random&quot;</td><td>&quot;random&quot;</td><td>&quot;monkey&quot;</td><td>17</td><td>2024-08-28 19:24:37.631140</td><td>2024-08-28 19:24:38.558397</td><td>&quot;SpawnPoolWorker-1&quot;</td></tr><tr><td>&hellip;</td><td>&hellip;</td><td>&hellip;</td><td>&hellip;</td><td>&hellip;</td><td>&hellip;</td><td>&hellip;</td><td>&hellip;</td><td>&hellip;</td></tr><tr><td>24995</td><td>995</td><td>&quot;metric_strength&quot;</td><td>&quot;metric_strength&quot;</td><td>&quot;monkey&quot;</td><td>5</td><td>2024-08-28 20:01:48.869065</td><td>2024-08-28 20:01:49.549160</td><td>&quot;SpawnPoolWorker-4&quot;</td></tr><tr><td>24996</td><td>996</td><td>&quot;metric_strength&quot;</td><td>&quot;metric_strength&quot;</td><td>&quot;wolf&quot;</td><td>16</td><td>2024-08-28 20:01:49.549160</td><td>2024-08-28 20:01:50.253752</td><td>&quot;SpawnPoolWorker-4&quot;</td></tr><tr><td>24997</td><td>997</td><td>&quot;metric_strength&quot;</td><td>&quot;metric_strength&quot;</td><td>&quot;monkey&quot;</td><td>13</td><td>2024-08-28 20:01:50.253752</td><td>2024-08-28 20:01:51.182029</td><td>&quot;SpawnPoolWorker-4&quot;</td></tr><tr><td>24998</td><td>998</td><td>&quot;metric_strength&quot;</td><td>&quot;metric_strength&quot;</td><td>&quot;wolf&quot;</td><td>8</td><td>2024-08-28 20:01:51.182029</td><td>2024-08-28 20:01:51.864236</td><td>&quot;SpawnPoolWorker-4&quot;</td></tr><tr><td>24999</td><td>999</td><td>&quot;metric_strength&quot;</td><td>&quot;metric_strength&quot;</td><td>&quot;wolf&quot;</td><td>12</td><td>2024-08-28 20:01:51.864236</td><td>2024-08-28 20:01:52.428740</td><td>&quot;SpawnPoolWorker-4&quot;</td></tr></tbody></table></div>"
      ]
     },
     "execution_count": 26,
     "metadata": {},
     "output_type": "execute_result"
    }
   ],
   "execution_count": 26
  },
  {
   "cell_type": "code",
   "id": "e3243dab3ac7e9c",
   "metadata": {
    "ExecuteTime": {
     "end_time": "2024-08-29T21:25:19.155755Z",
     "start_time": "2024-08-29T21:25:19.137317Z"
    }
   },
   "source": [
    "counted = df.group_by(\"monkey_strategy\", \"wolf_strategy\", maintain_order=True).agg([\n",
    "        (pl.col(\"winner\") == \"monkey\").sum().alias(\"monkey_wins\"),\n",
    "        (pl.col(\"winner\") == \"wolf\").sum().alias(\"wolf_wins\"),\n",
    "        (pl.col(\"winner\") == \"none\").sum().alias(\"draws\")\n",
    "    ])\n",
    "counted"
   ],
   "outputs": [
    {
     "data": {
      "text/plain": [
       "shape: (25, 5)\n",
       "┌─────────────────┬─────────────────┬─────────────┬───────────┬───────┐\n",
       "│ monkey_strategy ┆ wolf_strategy   ┆ monkey_wins ┆ wolf_wins ┆ draws │\n",
       "│ ---             ┆ ---             ┆ ---         ┆ ---       ┆ ---   │\n",
       "│ str             ┆ str             ┆ u32         ┆ u32       ┆ u32   │\n",
       "╞═════════════════╪═════════════════╪═════════════╪═══════════╪═══════╡\n",
       "│ random          ┆ random          ┆ 540         ┆ 460       ┆ 0     │\n",
       "│ random          ┆ random_spot_win ┆ 379         ┆ 621       ┆ 0     │\n",
       "│ random          ┆ metric_count    ┆ 81          ┆ 919       ┆ 0     │\n",
       "│ random          ┆ metric_position ┆ 124         ┆ 876       ┆ 0     │\n",
       "│ random          ┆ metric_strength ┆ 44          ┆ 956       ┆ 0     │\n",
       "│ …               ┆ …               ┆ …           ┆ …         ┆ …     │\n",
       "│ metric_strength ┆ random          ┆ 963         ┆ 37        ┆ 0     │\n",
       "│ metric_strength ┆ random_spot_win ┆ 911         ┆ 89        ┆ 0     │\n",
       "│ metric_strength ┆ metric_count    ┆ 579         ┆ 421       ┆ 0     │\n",
       "│ metric_strength ┆ metric_position ┆ 802         ┆ 198       ┆ 0     │\n",
       "│ metric_strength ┆ metric_strength ┆ 504         ┆ 496       ┆ 0     │\n",
       "└─────────────────┴─────────────────┴─────────────┴───────────┴───────┘"
      ],
      "text/html": [
       "<div><style>\n",
       ".dataframe > thead > tr,\n",
       ".dataframe > tbody > tr {\n",
       "  text-align: right;\n",
       "  white-space: pre-wrap;\n",
       "}\n",
       "</style>\n",
       "<small>shape: (25, 5)</small><table border=\"1\" class=\"dataframe\"><thead><tr><th>monkey_strategy</th><th>wolf_strategy</th><th>monkey_wins</th><th>wolf_wins</th><th>draws</th></tr><tr><td>str</td><td>str</td><td>u32</td><td>u32</td><td>u32</td></tr></thead><tbody><tr><td>&quot;random&quot;</td><td>&quot;random&quot;</td><td>540</td><td>460</td><td>0</td></tr><tr><td>&quot;random&quot;</td><td>&quot;random_spot_win&quot;</td><td>379</td><td>621</td><td>0</td></tr><tr><td>&quot;random&quot;</td><td>&quot;metric_count&quot;</td><td>81</td><td>919</td><td>0</td></tr><tr><td>&quot;random&quot;</td><td>&quot;metric_position&quot;</td><td>124</td><td>876</td><td>0</td></tr><tr><td>&quot;random&quot;</td><td>&quot;metric_strength&quot;</td><td>44</td><td>956</td><td>0</td></tr><tr><td>&hellip;</td><td>&hellip;</td><td>&hellip;</td><td>&hellip;</td><td>&hellip;</td></tr><tr><td>&quot;metric_strength&quot;</td><td>&quot;random&quot;</td><td>963</td><td>37</td><td>0</td></tr><tr><td>&quot;metric_strength&quot;</td><td>&quot;random_spot_win&quot;</td><td>911</td><td>89</td><td>0</td></tr><tr><td>&quot;metric_strength&quot;</td><td>&quot;metric_count&quot;</td><td>579</td><td>421</td><td>0</td></tr><tr><td>&quot;metric_strength&quot;</td><td>&quot;metric_position&quot;</td><td>802</td><td>198</td><td>0</td></tr><tr><td>&quot;metric_strength&quot;</td><td>&quot;metric_strength&quot;</td><td>504</td><td>496</td><td>0</td></tr></tbody></table></div>"
      ]
     },
     "execution_count": 27,
     "metadata": {},
     "output_type": "execute_result"
    }
   ],
   "execution_count": 27
  },
  {
   "metadata": {
    "ExecuteTime": {
     "end_time": "2024-08-29T21:25:46.517659Z",
     "start_time": "2024-08-29T21:25:46.502212Z"
    }
   },
   "cell_type": "code",
   "source": "counted.write_csv(\"win_counts.csv\")",
   "id": "a287162ab5318562",
   "outputs": [],
   "execution_count": 28
  },
  {
   "metadata": {},
   "cell_type": "code",
   "outputs": [],
   "execution_count": null,
   "source": "",
   "id": "eaf0f21ad99b8e87"
  }
 ],
 "metadata": {
  "kernelspec": {
   "display_name": "Python 3",
   "language": "python",
   "name": "python3"
  },
  "language_info": {
   "codemirror_mode": {
    "name": "ipython",
    "version": 2
   },
   "file_extension": ".py",
   "mimetype": "text/x-python",
   "name": "python",
   "nbconvert_exporter": "python",
   "pygments_lexer": "ipython2",
   "version": "2.7.6"
  }
 },
 "nbformat": 4,
 "nbformat_minor": 5
}
