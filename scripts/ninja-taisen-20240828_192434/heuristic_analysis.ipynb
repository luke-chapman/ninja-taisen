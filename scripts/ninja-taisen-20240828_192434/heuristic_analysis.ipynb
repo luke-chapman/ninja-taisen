{
 "cells": [
  {
   "metadata": {
    "collapsed": true,
    "ExecuteTime": {
     "end_time": "2024-08-30T06:46:35.630897Z",
     "start_time": "2024-08-30T06:46:35.602099Z"
    }
   },
   "cell_type": "code",
   "source": [
    "import polars as pl\n",
    "\n",
    "# Scan the big parquet file and tot up the proportions of the winners\n",
    "df_counts = (\n",
    "    pl.scan_parquet(\"results.parquet\")\n",
    "    .group_by(\"monkey_strategy\", \"wolf_strategy\")\n",
    "    .agg(pl.col(\"winner\").value_counts(normalize=True))\n",
    "    .explode(\"winner\")\n",
    "    .unnest(\"winner\")\n",
    "    .collect()\n",
    ")\n",
    "df_counts"
   ],
   "id": "initial_id",
   "outputs": [
    {
     "data": {
      "text/plain": [
       "shape: (50, 4)\n",
       "┌─────────────────┬─────────────────┬────────┬────────────┐\n",
       "│ monkey_strategy ┆ wolf_strategy   ┆ winner ┆ proportion │\n",
       "│ ---             ┆ ---             ┆ ---    ┆ ---        │\n",
       "│ str             ┆ str             ┆ str    ┆ f64        │\n",
       "╞═════════════════╪═════════════════╪════════╪════════════╡\n",
       "│ metric_strength ┆ metric_count    ┆ monkey ┆ 0.579      │\n",
       "│ metric_strength ┆ metric_count    ┆ wolf   ┆ 0.421      │\n",
       "│ metric_position ┆ metric_count    ┆ monkey ┆ 0.309      │\n",
       "│ metric_position ┆ metric_count    ┆ wolf   ┆ 0.691      │\n",
       "│ random          ┆ metric_strength ┆ wolf   ┆ 0.956      │\n",
       "│ …               ┆ …               ┆ …      ┆ …          │\n",
       "│ random_spot_win ┆ metric_position ┆ monkey ┆ 0.3        │\n",
       "│ random_spot_win ┆ random_spot_win ┆ monkey ┆ 0.562      │\n",
       "│ random_spot_win ┆ random_spot_win ┆ wolf   ┆ 0.438      │\n",
       "│ metric_position ┆ random_spot_win ┆ wolf   ┆ 0.204      │\n",
       "│ metric_position ┆ random_spot_win ┆ monkey ┆ 0.796      │\n",
       "└─────────────────┴─────────────────┴────────┴────────────┘"
      ],
      "text/html": [
       "<div><style>\n",
       ".dataframe > thead > tr,\n",
       ".dataframe > tbody > tr {\n",
       "  text-align: right;\n",
       "  white-space: pre-wrap;\n",
       "}\n",
       "</style>\n",
       "<small>shape: (50, 4)</small><table border=\"1\" class=\"dataframe\"><thead><tr><th>monkey_strategy</th><th>wolf_strategy</th><th>winner</th><th>proportion</th></tr><tr><td>str</td><td>str</td><td>str</td><td>f64</td></tr></thead><tbody><tr><td>&quot;metric_strength&quot;</td><td>&quot;metric_count&quot;</td><td>&quot;monkey&quot;</td><td>0.579</td></tr><tr><td>&quot;metric_strength&quot;</td><td>&quot;metric_count&quot;</td><td>&quot;wolf&quot;</td><td>0.421</td></tr><tr><td>&quot;metric_position&quot;</td><td>&quot;metric_count&quot;</td><td>&quot;monkey&quot;</td><td>0.309</td></tr><tr><td>&quot;metric_position&quot;</td><td>&quot;metric_count&quot;</td><td>&quot;wolf&quot;</td><td>0.691</td></tr><tr><td>&quot;random&quot;</td><td>&quot;metric_strength&quot;</td><td>&quot;wolf&quot;</td><td>0.956</td></tr><tr><td>&hellip;</td><td>&hellip;</td><td>&hellip;</td><td>&hellip;</td></tr><tr><td>&quot;random_spot_win&quot;</td><td>&quot;metric_position&quot;</td><td>&quot;monkey&quot;</td><td>0.3</td></tr><tr><td>&quot;random_spot_win&quot;</td><td>&quot;random_spot_win&quot;</td><td>&quot;monkey&quot;</td><td>0.562</td></tr><tr><td>&quot;random_spot_win&quot;</td><td>&quot;random_spot_win&quot;</td><td>&quot;wolf&quot;</td><td>0.438</td></tr><tr><td>&quot;metric_position&quot;</td><td>&quot;random_spot_win&quot;</td><td>&quot;wolf&quot;</td><td>0.204</td></tr><tr><td>&quot;metric_position&quot;</td><td>&quot;random_spot_win&quot;</td><td>&quot;monkey&quot;</td><td>0.796</td></tr></tbody></table></div>"
      ]
     },
     "execution_count": 71,
     "metadata": {},
     "output_type": "execute_result"
    }
   ],
   "execution_count": 71
  },
  {
   "metadata": {
    "ExecuteTime": {
     "end_time": "2024-08-30T07:06:14.302189Z",
     "start_time": "2024-08-30T07:06:14.287150Z"
    }
   },
   "cell_type": "code",
   "source": [
    "strategies = sorted(pl.concat(df_counts.select(\"monkey_strategy\", \"wolf_strategy\")).unique())\n",
    "strategies"
   ],
   "id": "a287162ab5318562",
   "outputs": [
    {
     "data": {
      "text/plain": [
       "['metric_count',\n",
       " 'metric_position',\n",
       " 'metric_strength',\n",
       " 'random',\n",
       " 'random_spot_win']"
      ]
     },
     "execution_count": 92,
     "metadata": {},
     "output_type": "execute_result"
    }
   ],
   "execution_count": 92
  },
  {
   "metadata": {
    "ExecuteTime": {
     "end_time": "2024-08-30T07:07:41.867836Z",
     "start_time": "2024-08-30T07:07:41.834643Z"
    }
   },
   "cell_type": "code",
   "source": [
    "from collections import defaultdict\n",
    "\n",
    "\n",
    "analysis_by_strategy: dict[str, pl.DataFrame] = {}\n",
    "\n",
    "for strategy_a in strategies:\n",
    "    data = defaultdict(list)\n",
    "    for strategy_b in strategies:\n",
    "        monkey_row = df_counts.filter(\n",
    "            pl.col(\"monkey_strategy\") == strategy_a,\n",
    "            pl.col(\"wolf_strategy\") == strategy_b,\n",
    "            pl.col(\"winner\") == \"monkey\",\n",
    "        )\n",
    "        assert monkey_row.height == 1\n",
    "        monkey_proportion = monkey_row[\"proportion\"][0]\n",
    "        \n",
    "        wolf_row = df_counts.filter(\n",
    "            pl.col(\"wolf_strategy\") == strategy_a,\n",
    "            pl.col(\"monkey_strategy\") == strategy_b,\n",
    "            pl.col(\"winner\") == \"wolf\",\n",
    "        )\n",
    "        assert wolf_row.height == 1\n",
    "        wolf_proportion = wolf_row[\"proportion\"][0]\n",
    "        \n",
    "        data[\"vs\"].append(strategy_b)\n",
    "        data[\"m\"].append(monkey_proportion - 0.5)\n",
    "        data[\"w\"].append(wolf_proportion - 0.5)\n",
    "\n",
    "    analysis_by_strategy[strategy_a] = pl.DataFrame(data=data)"
   ],
   "id": "20dc1aa94e838a3a",
   "outputs": [],
   "execution_count": 94
  },
  {
   "metadata": {
    "ExecuteTime": {
     "end_time": "2024-08-30T07:08:19.629660Z",
     "start_time": "2024-08-30T07:08:19.622714Z"
    }
   },
   "cell_type": "code",
   "source": "analysis_by_strategy[\"metric_position\"]",
   "id": "1e866a42986f37a5",
   "outputs": [
    {
     "data": {
      "text/plain": [
       "shape: (5, 3)\n",
       "┌─────────────────┬────────┬────────┐\n",
       "│ vs              ┆ m      ┆ w      │\n",
       "│ ---             ┆ ---    ┆ ---    │\n",
       "│ str             ┆ f64    ┆ f64    │\n",
       "╞═════════════════╪════════╪════════╡\n",
       "│ metric_count    ┆ -0.191 ┆ -0.232 │\n",
       "│ metric_position ┆ 0.044  ┆ -0.044 │\n",
       "│ metric_strength ┆ -0.267 ┆ -0.302 │\n",
       "│ random          ┆ 0.431  ┆ 0.376  │\n",
       "│ random_spot_win ┆ 0.296  ┆ 0.2    │\n",
       "└─────────────────┴────────┴────────┘"
      ],
      "text/html": [
       "<div><style>\n",
       ".dataframe > thead > tr,\n",
       ".dataframe > tbody > tr {\n",
       "  text-align: right;\n",
       "  white-space: pre-wrap;\n",
       "}\n",
       "</style>\n",
       "<small>shape: (5, 3)</small><table border=\"1\" class=\"dataframe\"><thead><tr><th>vs</th><th>m</th><th>w</th></tr><tr><td>str</td><td>f64</td><td>f64</td></tr></thead><tbody><tr><td>&quot;metric_count&quot;</td><td>-0.191</td><td>-0.232</td></tr><tr><td>&quot;metric_position&quot;</td><td>0.044</td><td>-0.044</td></tr><tr><td>&quot;metric_strength&quot;</td><td>-0.267</td><td>-0.302</td></tr><tr><td>&quot;random&quot;</td><td>0.431</td><td>0.376</td></tr><tr><td>&quot;random_spot_win&quot;</td><td>0.296</td><td>0.2</td></tr></tbody></table></div>"
      ]
     },
     "execution_count": 97,
     "metadata": {},
     "output_type": "execute_result"
    }
   ],
   "execution_count": 97
  },
  {
   "metadata": {},
   "cell_type": "code",
   "outputs": [],
   "execution_count": null,
   "source": "",
   "id": "b165b26732700724"
  }
 ],
 "metadata": {
  "kernelspec": {
   "display_name": "Python 3",
   "language": "python",
   "name": "python3"
  },
  "language_info": {
   "codemirror_mode": {
    "name": "ipython",
    "version": 2
   },
   "file_extension": ".py",
   "mimetype": "text/x-python",
   "name": "python",
   "nbconvert_exporter": "python",
   "pygments_lexer": "ipython2",
   "version": "2.7.6"
  }
 },
 "nbformat": 4,
 "nbformat_minor": 5
}
