{
 "cells": [
  {
   "metadata": {
    "collapsed": true,
    "ExecuteTime": {
     "end_time": "2024-08-30T06:46:35.630897Z",
     "start_time": "2024-08-30T06:46:35.602099Z"
    }
   },
   "cell_type": "code",
   "source": [
    "import polars as pl\n",
    "\n",
    "# Scan the big parquet file and tot up the proportions of the winners\n",
    "df_counts = (\n",
    "    pl.scan_parquet(\"results.parquet\")\n",
    "    .group_by(\"monkey_strategy\", \"wolf_strategy\")\n",
    "    .agg(pl.col(\"winner\").value_counts(normalize=True))\n",
    "    .explode(\"winner\")\n",
    "    .unnest(\"winner\")\n",
    "    .collect()\n",
    ")\n",
    "df_counts"
   ],
   "id": "initial_id",
   "outputs": [
    {
     "data": {
      "text/plain": [
       "shape: (50, 4)\n",
       "┌─────────────────┬─────────────────┬────────┬────────────┐\n",
       "│ monkey_strategy ┆ wolf_strategy   ┆ winner ┆ proportion │\n",
       "│ ---             ┆ ---             ┆ ---    ┆ ---        │\n",
       "│ str             ┆ str             ┆ str    ┆ f64        │\n",
       "╞═════════════════╪═════════════════╪════════╪════════════╡\n",
       "│ metric_strength ┆ metric_count    ┆ monkey ┆ 0.579      │\n",
       "│ metric_strength ┆ metric_count    ┆ wolf   ┆ 0.421      │\n",
       "│ metric_position ┆ metric_count    ┆ monkey ┆ 0.309      │\n",
       "│ metric_position ┆ metric_count    ┆ wolf   ┆ 0.691      │\n",
       "│ random          ┆ metric_strength ┆ wolf   ┆ 0.956      │\n",
       "│ …               ┆ …               ┆ …      ┆ …          │\n",
       "│ random_spot_win ┆ metric_position ┆ monkey ┆ 0.3        │\n",
       "│ random_spot_win ┆ random_spot_win ┆ monkey ┆ 0.562      │\n",
       "│ random_spot_win ┆ random_spot_win ┆ wolf   ┆ 0.438      │\n",
       "│ metric_position ┆ random_spot_win ┆ wolf   ┆ 0.204      │\n",
       "│ metric_position ┆ random_spot_win ┆ monkey ┆ 0.796      │\n",
       "└─────────────────┴─────────────────┴────────┴────────────┘"
      ],
      "text/html": [
       "<div><style>\n",
       ".dataframe > thead > tr,\n",
       ".dataframe > tbody > tr {\n",
       "  text-align: right;\n",
       "  white-space: pre-wrap;\n",
       "}\n",
       "</style>\n",
       "<small>shape: (50, 4)</small><table border=\"1\" class=\"dataframe\"><thead><tr><th>monkey_strategy</th><th>wolf_strategy</th><th>winner</th><th>proportion</th></tr><tr><td>str</td><td>str</td><td>str</td><td>f64</td></tr></thead><tbody><tr><td>&quot;metric_strength&quot;</td><td>&quot;metric_count&quot;</td><td>&quot;monkey&quot;</td><td>0.579</td></tr><tr><td>&quot;metric_strength&quot;</td><td>&quot;metric_count&quot;</td><td>&quot;wolf&quot;</td><td>0.421</td></tr><tr><td>&quot;metric_position&quot;</td><td>&quot;metric_count&quot;</td><td>&quot;monkey&quot;</td><td>0.309</td></tr><tr><td>&quot;metric_position&quot;</td><td>&quot;metric_count&quot;</td><td>&quot;wolf&quot;</td><td>0.691</td></tr><tr><td>&quot;random&quot;</td><td>&quot;metric_strength&quot;</td><td>&quot;wolf&quot;</td><td>0.956</td></tr><tr><td>&hellip;</td><td>&hellip;</td><td>&hellip;</td><td>&hellip;</td></tr><tr><td>&quot;random_spot_win&quot;</td><td>&quot;metric_position&quot;</td><td>&quot;monkey&quot;</td><td>0.3</td></tr><tr><td>&quot;random_spot_win&quot;</td><td>&quot;random_spot_win&quot;</td><td>&quot;monkey&quot;</td><td>0.562</td></tr><tr><td>&quot;random_spot_win&quot;</td><td>&quot;random_spot_win&quot;</td><td>&quot;wolf&quot;</td><td>0.438</td></tr><tr><td>&quot;metric_position&quot;</td><td>&quot;random_spot_win&quot;</td><td>&quot;wolf&quot;</td><td>0.204</td></tr><tr><td>&quot;metric_position&quot;</td><td>&quot;random_spot_win&quot;</td><td>&quot;monkey&quot;</td><td>0.796</td></tr></tbody></table></div>"
      ]
     },
     "execution_count": 71,
     "metadata": {},
     "output_type": "execute_result"
    }
   ],
   "execution_count": 71
  },
  {
   "metadata": {
    "ExecuteTime": {
     "end_time": "2024-08-30T06:47:46.554102Z",
     "start_time": "2024-08-30T06:47:46.535189Z"
    }
   },
   "cell_type": "code",
   "source": [
    "strategies = pl.concat(df_counts.select(\"monkey_strategy\", \"wolf_strategy\")).unique().alias(\"strategy\")\n",
    "strategies"
   ],
   "id": "a287162ab5318562",
   "outputs": [
    {
     "data": {
      "text/plain": [
       "shape: (5,)\n",
       "Series: 'strategy' [str]\n",
       "[\n",
       "\t\"random_spot_win\"\n",
       "\t\"random\"\n",
       "\t\"metric_position\"\n",
       "\t\"metric_count\"\n",
       "\t\"metric_strength\"\n",
       "]"
      ],
      "text/html": [
       "<div><style>\n",
       ".dataframe > thead > tr,\n",
       ".dataframe > tbody > tr {\n",
       "  text-align: right;\n",
       "  white-space: pre-wrap;\n",
       "}\n",
       "</style>\n",
       "<small>shape: (5,)</small><table border=\"1\" class=\"dataframe\"><thead><tr><th>strategy</th></tr><tr><td>str</td></tr></thead><tbody><tr><td>&quot;random_spot_win&quot;</td></tr><tr><td>&quot;random&quot;</td></tr><tr><td>&quot;metric_position&quot;</td></tr><tr><td>&quot;metric_count&quot;</td></tr><tr><td>&quot;metric_strength&quot;</td></tr></tbody></table></div>"
      ]
     },
     "execution_count": 73,
     "metadata": {},
     "output_type": "execute_result"
    }
   ],
   "execution_count": 73
  },
  {
   "metadata": {},
   "cell_type": "code",
   "outputs": [],
   "execution_count": null,
   "source": "",
   "id": "20dc1aa94e838a3a"
  }
 ],
 "metadata": {
  "kernelspec": {
   "display_name": "Python 3",
   "language": "python",
   "name": "python3"
  },
  "language_info": {
   "codemirror_mode": {
    "name": "ipython",
    "version": 2
   },
   "file_extension": ".py",
   "mimetype": "text/x-python",
   "name": "python",
   "nbconvert_exporter": "python",
   "pygments_lexer": "ipython2",
   "version": "2.7.6"
  }
 },
 "nbformat": 4,
 "nbformat_minor": 5
}
